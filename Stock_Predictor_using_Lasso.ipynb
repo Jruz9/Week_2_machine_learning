{
  "nbformat": 4,
  "nbformat_minor": 0,
  "metadata": {
    "colab": {
      "name": " Stock_Predictor using Lasso.ipynb",
      "provenance": [],
      "collapsed_sections": [],
      "include_colab_link": true
    },
    "kernelspec": {
      "name": "python3",
      "display_name": "Python 3"
    }
  },
  "cells": [
    {
      "cell_type": "markdown",
      "metadata": {
        "id": "view-in-github",
        "colab_type": "text"
      },
      "source": [
        "<a href=\"https://colab.research.google.com/github/Jruz9/Week_2_machine_learning/blob/master/Stock_Predictor_using_Lasso.ipynb\" target=\"_parent\"><img src=\"https://colab.research.google.com/assets/colab-badge.svg\" alt=\"Open In Colab\"/></a>"
      ]
    },
    {
      "cell_type": "code",
      "metadata": {
        "id": "SAtRE_8BlFwy",
        "colab_type": "code",
        "outputId": "bd2c4c81-c09c-4ade-95e1-270bb4beecf3",
        "colab": {
          "base_uri": "https://localhost:8080/",
          "height": 235
        }
      },
      "source": [
        "import pandas as pd\n",
        "\n",
        "import datetime\n",
        "import pandas_datareader.data as web\n",
        "from pandas import Series, DataFrame\n",
        "from sklearn.linear_model import LinearRegression\n",
        "import math\n",
        "\n",
        "\n",
        "start = datetime.datetime(2014, 1, 1) #our starting date for our database\n",
        "end = datetime.datetime(2019, 9, 9) #our end date for our database\n",
        "\n",
        "df = web.DataReader(\"MSFT\", 'yahoo', start, end)    #Data about microsoft's stock performance from yahoo\n",
        "df.tail() #reads the bottom values of the database\n",
        "\n"
      ],
      "execution_count": 0,
      "outputs": [
        {
          "output_type": "execute_result",
          "data": {
            "text/html": [
              "<div>\n",
              "<style scoped>\n",
              "    .dataframe tbody tr th:only-of-type {\n",
              "        vertical-align: middle;\n",
              "    }\n",
              "\n",
              "    .dataframe tbody tr th {\n",
              "        vertical-align: top;\n",
              "    }\n",
              "\n",
              "    .dataframe thead th {\n",
              "        text-align: right;\n",
              "    }\n",
              "</style>\n",
              "<table border=\"1\" class=\"dataframe\">\n",
              "  <thead>\n",
              "    <tr style=\"text-align: right;\">\n",
              "      <th></th>\n",
              "      <th>High</th>\n",
              "      <th>Low</th>\n",
              "      <th>Open</th>\n",
              "      <th>Close</th>\n",
              "      <th>Volume</th>\n",
              "      <th>Adj Close</th>\n",
              "    </tr>\n",
              "    <tr>\n",
              "      <th>Date</th>\n",
              "      <th></th>\n",
              "      <th></th>\n",
              "      <th></th>\n",
              "      <th></th>\n",
              "      <th></th>\n",
              "      <th></th>\n",
              "    </tr>\n",
              "  </thead>\n",
              "  <tbody>\n",
              "    <tr>\n",
              "      <th>2019-09-03</th>\n",
              "      <td>137.199997</td>\n",
              "      <td>135.699997</td>\n",
              "      <td>136.610001</td>\n",
              "      <td>136.039993</td>\n",
              "      <td>18869300.0</td>\n",
              "      <td>136.039993</td>\n",
              "    </tr>\n",
              "    <tr>\n",
              "      <th>2019-09-04</th>\n",
              "      <td>137.690002</td>\n",
              "      <td>136.479996</td>\n",
              "      <td>137.300003</td>\n",
              "      <td>137.630005</td>\n",
              "      <td>17995900.0</td>\n",
              "      <td>137.630005</td>\n",
              "    </tr>\n",
              "    <tr>\n",
              "      <th>2019-09-05</th>\n",
              "      <td>140.380005</td>\n",
              "      <td>138.759995</td>\n",
              "      <td>139.110001</td>\n",
              "      <td>140.050003</td>\n",
              "      <td>26101800.0</td>\n",
              "      <td>140.050003</td>\n",
              "    </tr>\n",
              "    <tr>\n",
              "      <th>2019-09-06</th>\n",
              "      <td>140.179993</td>\n",
              "      <td>138.199997</td>\n",
              "      <td>140.029999</td>\n",
              "      <td>139.100006</td>\n",
              "      <td>20824500.0</td>\n",
              "      <td>139.100006</td>\n",
              "    </tr>\n",
              "    <tr>\n",
              "      <th>2019-09-09</th>\n",
              "      <td>139.750000</td>\n",
              "      <td>136.460007</td>\n",
              "      <td>139.589996</td>\n",
              "      <td>137.520004</td>\n",
              "      <td>25773900.0</td>\n",
              "      <td>137.520004</td>\n",
              "    </tr>\n",
              "  </tbody>\n",
              "</table>\n",
              "</div>"
            ],
            "text/plain": [
              "                  High         Low  ...      Volume   Adj Close\n",
              "Date                                ...                        \n",
              "2019-09-03  137.199997  135.699997  ...  18869300.0  136.039993\n",
              "2019-09-04  137.690002  136.479996  ...  17995900.0  137.630005\n",
              "2019-09-05  140.380005  138.759995  ...  26101800.0  140.050003\n",
              "2019-09-06  140.179993  138.199997  ...  20824500.0  139.100006\n",
              "2019-09-09  139.750000  136.460007  ...  25773900.0  137.520004\n",
              "\n",
              "[5 rows x 6 columns]"
            ]
          },
          "metadata": {
            "tags": []
          },
          "execution_count": 1
        }
      ]
    },
    {
      "cell_type": "markdown",
      "metadata": {
        "id": "NxLQEEaulzfb",
        "colab_type": "text"
      },
      "source": [
        ""
      ]
    },
    {
      "cell_type": "code",
      "metadata": {
        "id": "qM1IaG25l0K2",
        "colab_type": "code",
        "outputId": "dfd202a2-3cb7-4252-b83d-cce9f690a7d7",
        "colab": {
          "base_uri": "https://localhost:8080/",
          "height": 235
        }
      },
      "source": [
        "df['HighLow_PCT']= (df['High'] - df['Low']) / df['Close'] * 100   #A alogirthm  for high-low percent change\n",
        "df['PCT_CHANGE'] = (df['Close'] - df['Open']) / df['Open'] * 100  # a percent change alogithm\n",
        "df.head()"
      ],
      "execution_count": 0,
      "outputs": [
        {
          "output_type": "execute_result",
          "data": {
            "text/html": [
              "<div>\n",
              "<style scoped>\n",
              "    .dataframe tbody tr th:only-of-type {\n",
              "        vertical-align: middle;\n",
              "    }\n",
              "\n",
              "    .dataframe tbody tr th {\n",
              "        vertical-align: top;\n",
              "    }\n",
              "\n",
              "    .dataframe thead th {\n",
              "        text-align: right;\n",
              "    }\n",
              "</style>\n",
              "<table border=\"1\" class=\"dataframe\">\n",
              "  <thead>\n",
              "    <tr style=\"text-align: right;\">\n",
              "      <th></th>\n",
              "      <th>High</th>\n",
              "      <th>Low</th>\n",
              "      <th>Open</th>\n",
              "      <th>Close</th>\n",
              "      <th>Volume</th>\n",
              "      <th>Adj Close</th>\n",
              "      <th>HighLow_PCT</th>\n",
              "      <th>PCT_CHANGE</th>\n",
              "    </tr>\n",
              "    <tr>\n",
              "      <th>Date</th>\n",
              "      <th></th>\n",
              "      <th></th>\n",
              "      <th></th>\n",
              "      <th></th>\n",
              "      <th></th>\n",
              "      <th></th>\n",
              "      <th></th>\n",
              "      <th></th>\n",
              "    </tr>\n",
              "  </thead>\n",
              "  <tbody>\n",
              "    <tr>\n",
              "      <th>2014-01-02</th>\n",
              "      <td>37.400002</td>\n",
              "      <td>37.099998</td>\n",
              "      <td>37.349998</td>\n",
              "      <td>37.160000</td>\n",
              "      <td>30632200.0</td>\n",
              "      <td>32.582050</td>\n",
              "      <td>0.807328</td>\n",
              "      <td>-0.508698</td>\n",
              "    </tr>\n",
              "    <tr>\n",
              "      <th>2014-01-03</th>\n",
              "      <td>37.220001</td>\n",
              "      <td>36.599998</td>\n",
              "      <td>37.200001</td>\n",
              "      <td>36.910000</td>\n",
              "      <td>31134800.0</td>\n",
              "      <td>32.362835</td>\n",
              "      <td>1.679769</td>\n",
              "      <td>-0.779572</td>\n",
              "    </tr>\n",
              "    <tr>\n",
              "      <th>2014-01-06</th>\n",
              "      <td>36.889999</td>\n",
              "      <td>36.110001</td>\n",
              "      <td>36.849998</td>\n",
              "      <td>36.130001</td>\n",
              "      <td>43603700.0</td>\n",
              "      <td>31.678938</td>\n",
              "      <td>2.158867</td>\n",
              "      <td>-1.953860</td>\n",
              "    </tr>\n",
              "    <tr>\n",
              "      <th>2014-01-07</th>\n",
              "      <td>36.490002</td>\n",
              "      <td>36.209999</td>\n",
              "      <td>36.330002</td>\n",
              "      <td>36.410000</td>\n",
              "      <td>35802800.0</td>\n",
              "      <td>31.924446</td>\n",
              "      <td>0.769027</td>\n",
              "      <td>0.220198</td>\n",
              "    </tr>\n",
              "    <tr>\n",
              "      <th>2014-01-08</th>\n",
              "      <td>36.139999</td>\n",
              "      <td>35.580002</td>\n",
              "      <td>36.000000</td>\n",
              "      <td>35.759998</td>\n",
              "      <td>59971700.0</td>\n",
              "      <td>31.354523</td>\n",
              "      <td>1.565989</td>\n",
              "      <td>-0.666671</td>\n",
              "    </tr>\n",
              "  </tbody>\n",
              "</table>\n",
              "</div>"
            ],
            "text/plain": [
              "                 High        Low       Open  ...  Adj Close  HighLow_PCT  PCT_CHANGE\n",
              "Date                                         ...                                    \n",
              "2014-01-02  37.400002  37.099998  37.349998  ...  32.582050     0.807328   -0.508698\n",
              "2014-01-03  37.220001  36.599998  37.200001  ...  32.362835     1.679769   -0.779572\n",
              "2014-01-06  36.889999  36.110001  36.849998  ...  31.678938     2.158867   -1.953860\n",
              "2014-01-07  36.490002  36.209999  36.330002  ...  31.924446     0.769027    0.220198\n",
              "2014-01-08  36.139999  35.580002  36.000000  ...  31.354523     1.565989   -0.666671\n",
              "\n",
              "[5 rows x 8 columns]"
            ]
          },
          "metadata": {
            "tags": []
          },
          "execution_count": 2
        }
      ]
    },
    {
      "cell_type": "code",
      "metadata": {
        "id": "PUGbjCW6mNni",
        "colab_type": "code",
        "colab": {}
      },
      "source": [
        "forecast_col = 'Adj Close'\n",
        "df.fillna(method='ffill', inplace=True)\n",
        "forecast_out = 30\n",
        "df['label'] = df[forecast_col].shift(-forecast_out) #"
      ],
      "execution_count": 0,
      "outputs": []
    },
    {
      "cell_type": "code",
      "metadata": {
        "id": "83KyHeO9nEhT",
        "colab_type": "code",
        "outputId": "4fe64d98-1562-4988-e4a6-f93be71d12e2",
        "colab": {
          "base_uri": "https://localhost:8080/",
          "height": 235
        }
      },
      "source": [
        "df.tail()"
      ],
      "execution_count": 0,
      "outputs": [
        {
          "output_type": "execute_result",
          "data": {
            "text/html": [
              "<div>\n",
              "<style scoped>\n",
              "    .dataframe tbody tr th:only-of-type {\n",
              "        vertical-align: middle;\n",
              "    }\n",
              "\n",
              "    .dataframe tbody tr th {\n",
              "        vertical-align: top;\n",
              "    }\n",
              "\n",
              "    .dataframe thead th {\n",
              "        text-align: right;\n",
              "    }\n",
              "</style>\n",
              "<table border=\"1\" class=\"dataframe\">\n",
              "  <thead>\n",
              "    <tr style=\"text-align: right;\">\n",
              "      <th></th>\n",
              "      <th>High</th>\n",
              "      <th>Low</th>\n",
              "      <th>Open</th>\n",
              "      <th>Close</th>\n",
              "      <th>Volume</th>\n",
              "      <th>Adj Close</th>\n",
              "      <th>HighLow_PCT</th>\n",
              "      <th>PCT_CHANGE</th>\n",
              "      <th>label</th>\n",
              "    </tr>\n",
              "    <tr>\n",
              "      <th>Date</th>\n",
              "      <th></th>\n",
              "      <th></th>\n",
              "      <th></th>\n",
              "      <th></th>\n",
              "      <th></th>\n",
              "      <th></th>\n",
              "      <th></th>\n",
              "      <th></th>\n",
              "      <th></th>\n",
              "    </tr>\n",
              "  </thead>\n",
              "  <tbody>\n",
              "    <tr>\n",
              "      <th>2019-09-03</th>\n",
              "      <td>137.199997</td>\n",
              "      <td>135.699997</td>\n",
              "      <td>136.610001</td>\n",
              "      <td>136.039993</td>\n",
              "      <td>18869300.0</td>\n",
              "      <td>136.039993</td>\n",
              "      <td>1.102617</td>\n",
              "      <td>-0.417252</td>\n",
              "      <td>NaN</td>\n",
              "    </tr>\n",
              "    <tr>\n",
              "      <th>2019-09-04</th>\n",
              "      <td>137.690002</td>\n",
              "      <td>136.479996</td>\n",
              "      <td>137.300003</td>\n",
              "      <td>137.630005</td>\n",
              "      <td>17995900.0</td>\n",
              "      <td>137.630005</td>\n",
              "      <td>0.879174</td>\n",
              "      <td>0.240351</td>\n",
              "      <td>NaN</td>\n",
              "    </tr>\n",
              "    <tr>\n",
              "      <th>2019-09-05</th>\n",
              "      <td>140.380005</td>\n",
              "      <td>138.759995</td>\n",
              "      <td>139.110001</td>\n",
              "      <td>140.050003</td>\n",
              "      <td>26101800.0</td>\n",
              "      <td>140.050003</td>\n",
              "      <td>1.156737</td>\n",
              "      <td>0.675726</td>\n",
              "      <td>NaN</td>\n",
              "    </tr>\n",
              "    <tr>\n",
              "      <th>2019-09-06</th>\n",
              "      <td>140.179993</td>\n",
              "      <td>138.199997</td>\n",
              "      <td>140.029999</td>\n",
              "      <td>139.100006</td>\n",
              "      <td>20824500.0</td>\n",
              "      <td>139.100006</td>\n",
              "      <td>1.423433</td>\n",
              "      <td>-0.664138</td>\n",
              "      <td>NaN</td>\n",
              "    </tr>\n",
              "    <tr>\n",
              "      <th>2019-09-09</th>\n",
              "      <td>139.750000</td>\n",
              "      <td>136.460007</td>\n",
              "      <td>139.589996</td>\n",
              "      <td>137.520004</td>\n",
              "      <td>25773900.0</td>\n",
              "      <td>137.520004</td>\n",
              "      <td>2.392374</td>\n",
              "      <td>-1.482909</td>\n",
              "      <td>NaN</td>\n",
              "    </tr>\n",
              "  </tbody>\n",
              "</table>\n",
              "</div>"
            ],
            "text/plain": [
              "                  High         Low        Open  ...  HighLow_PCT  PCT_CHANGE  label\n",
              "Date                                            ...                                \n",
              "2019-09-03  137.199997  135.699997  136.610001  ...     1.102617   -0.417252    NaN\n",
              "2019-09-04  137.690002  136.479996  137.300003  ...     0.879174    0.240351    NaN\n",
              "2019-09-05  140.380005  138.759995  139.110001  ...     1.156737    0.675726    NaN\n",
              "2019-09-06  140.179993  138.199997  140.029999  ...     1.423433   -0.664138    NaN\n",
              "2019-09-09  139.750000  136.460007  139.589996  ...     2.392374   -1.482909    NaN\n",
              "\n",
              "[5 rows x 9 columns]"
            ]
          },
          "metadata": {
            "tags": []
          },
          "execution_count": 4
        }
      ]
    },
    {
      "cell_type": "code",
      "metadata": {
        "id": "pZaxOqaAqWMX",
        "colab_type": "code",
        "outputId": "2e9d8f3e-3e91-431c-f1e2-020e4f6e9ac8",
        "colab": {
          "base_uri": "https://localhost:8080/",
          "height": 235
        }
      },
      "source": [
        "df.head()"
      ],
      "execution_count": 0,
      "outputs": [
        {
          "output_type": "execute_result",
          "data": {
            "text/html": [
              "<div>\n",
              "<style scoped>\n",
              "    .dataframe tbody tr th:only-of-type {\n",
              "        vertical-align: middle;\n",
              "    }\n",
              "\n",
              "    .dataframe tbody tr th {\n",
              "        vertical-align: top;\n",
              "    }\n",
              "\n",
              "    .dataframe thead th {\n",
              "        text-align: right;\n",
              "    }\n",
              "</style>\n",
              "<table border=\"1\" class=\"dataframe\">\n",
              "  <thead>\n",
              "    <tr style=\"text-align: right;\">\n",
              "      <th></th>\n",
              "      <th>High</th>\n",
              "      <th>Low</th>\n",
              "      <th>Open</th>\n",
              "      <th>Close</th>\n",
              "      <th>Volume</th>\n",
              "      <th>Adj Close</th>\n",
              "      <th>HighLow_PCT</th>\n",
              "      <th>PCT_CHANGE</th>\n",
              "      <th>label</th>\n",
              "    </tr>\n",
              "    <tr>\n",
              "      <th>Date</th>\n",
              "      <th></th>\n",
              "      <th></th>\n",
              "      <th></th>\n",
              "      <th></th>\n",
              "      <th></th>\n",
              "      <th></th>\n",
              "      <th></th>\n",
              "      <th></th>\n",
              "      <th></th>\n",
              "    </tr>\n",
              "  </thead>\n",
              "  <tbody>\n",
              "    <tr>\n",
              "      <th>2014-01-02</th>\n",
              "      <td>37.400002</td>\n",
              "      <td>37.099998</td>\n",
              "      <td>37.349998</td>\n",
              "      <td>37.160000</td>\n",
              "      <td>30632200.0</td>\n",
              "      <td>32.582050</td>\n",
              "      <td>0.807328</td>\n",
              "      <td>-0.508698</td>\n",
              "      <td>32.985371</td>\n",
              "    </tr>\n",
              "    <tr>\n",
              "      <th>2014-01-03</th>\n",
              "      <td>37.220001</td>\n",
              "      <td>36.599998</td>\n",
              "      <td>37.200001</td>\n",
              "      <td>36.910000</td>\n",
              "      <td>31134800.0</td>\n",
              "      <td>32.362835</td>\n",
              "      <td>1.679769</td>\n",
              "      <td>-0.779572</td>\n",
              "      <td>33.056034</td>\n",
              "    </tr>\n",
              "    <tr>\n",
              "      <th>2014-01-06</th>\n",
              "      <td>36.889999</td>\n",
              "      <td>36.110001</td>\n",
              "      <td>36.849998</td>\n",
              "      <td>36.130001</td>\n",
              "      <td>43603700.0</td>\n",
              "      <td>31.678938</td>\n",
              "      <td>2.158867</td>\n",
              "      <td>-1.953860</td>\n",
              "      <td>33.135548</td>\n",
              "    </tr>\n",
              "    <tr>\n",
              "      <th>2014-01-07</th>\n",
              "      <td>36.490002</td>\n",
              "      <td>36.209999</td>\n",
              "      <td>36.330002</td>\n",
              "      <td>36.410000</td>\n",
              "      <td>35802800.0</td>\n",
              "      <td>31.924446</td>\n",
              "      <td>0.769027</td>\n",
              "      <td>0.220198</td>\n",
              "      <td>33.347565</td>\n",
              "    </tr>\n",
              "    <tr>\n",
              "      <th>2014-01-08</th>\n",
              "      <td>36.139999</td>\n",
              "      <td>35.580002</td>\n",
              "      <td>36.000000</td>\n",
              "      <td>35.759998</td>\n",
              "      <td>59971700.0</td>\n",
              "      <td>31.354523</td>\n",
              "      <td>1.565989</td>\n",
              "      <td>-0.666671</td>\n",
              "      <td>33.550739</td>\n",
              "    </tr>\n",
              "  </tbody>\n",
              "</table>\n",
              "</div>"
            ],
            "text/plain": [
              "                 High        Low       Open  ...  HighLow_PCT  PCT_CHANGE      label\n",
              "Date                                         ...                                    \n",
              "2014-01-02  37.400002  37.099998  37.349998  ...     0.807328   -0.508698  32.985371\n",
              "2014-01-03  37.220001  36.599998  37.200001  ...     1.679769   -0.779572  33.056034\n",
              "2014-01-06  36.889999  36.110001  36.849998  ...     2.158867   -1.953860  33.135548\n",
              "2014-01-07  36.490002  36.209999  36.330002  ...     0.769027    0.220198  33.347565\n",
              "2014-01-08  36.139999  35.580002  36.000000  ...     1.565989   -0.666671  33.550739\n",
              "\n",
              "[5 rows x 9 columns]"
            ]
          },
          "metadata": {
            "tags": []
          },
          "execution_count": 5
        }
      ]
    },
    {
      "cell_type": "code",
      "metadata": {
        "id": "pz20DgIFqbu3",
        "colab_type": "code",
        "colab": {}
      },
      "source": [
        "df = df.drop(labels='Adj Close', axis=1)\n",
        "import numpy as np\n",
        "\n",
        "X = np.array(df.drop(['label'], 1))"
      ],
      "execution_count": 0,
      "outputs": []
    },
    {
      "cell_type": "code",
      "metadata": {
        "id": "akiZEA6oqeYW",
        "colab_type": "code",
        "outputId": "5e5148a9-42ff-4822-a0c9-05ff05e23910",
        "colab": {
          "base_uri": "https://localhost:8080/",
          "height": 238
        }
      },
      "source": [
        "X"
      ],
      "execution_count": 0,
      "outputs": [
        {
          "output_type": "execute_result",
          "data": {
            "text/plain": [
              "array([[ 3.74000015e+01,  3.70999985e+01,  3.73499985e+01, ...,\n",
              "         3.06322000e+07,  8.07327914e-01, -5.08697817e-01],\n",
              "       [ 3.72200012e+01,  3.65999985e+01,  3.72000008e+01, ...,\n",
              "         3.11348000e+07,  1.67976903e+00, -7.79572338e-01],\n",
              "       [ 3.68899994e+01,  3.61100006e+01,  3.68499985e+01, ...,\n",
              "         4.36037000e+07,  2.15886730e+00, -1.95386007e+00],\n",
              "       ...,\n",
              "       [ 1.40380005e+02,  1.38759995e+02,  1.39110001e+02, ...,\n",
              "         2.61018000e+07,  1.15673712e+00,  6.75725999e-01],\n",
              "       [ 1.40179993e+02,  1.38199997e+02,  1.40029999e+02, ...,\n",
              "         2.08245000e+07,  1.42343324e+00, -6.64138173e-01],\n",
              "       [ 1.39750000e+02,  1.36460007e+02,  1.39589996e+02, ...,\n",
              "         2.57739000e+07,  2.39237433e+00, -1.48290860e+00]])"
            ]
          },
          "metadata": {
            "tags": []
          },
          "execution_count": 7
        }
      ]
    },
    {
      "cell_type": "code",
      "metadata": {
        "id": "Z1_FB7iEqjDd",
        "colab_type": "code",
        "outputId": "d9c7d67b-a9b1-4514-8348-6f69a4e44c2b",
        "colab": {
          "base_uri": "https://localhost:8080/",
          "height": 238
        }
      },
      "source": [
        "from sklearn import preprocessing\n",
        "\n",
        "X = preprocessing.scale(X)\n",
        "X"
      ],
      "execution_count": 0,
      "outputs": [
        {
          "output_type": "execute_result",
          "data": {
            "text/plain": [
              "array([[-1.16615713, -1.15580932, -1.15669704, ...,  0.02646967,\n",
              "        -0.95981143, -0.47954558],\n",
              "       [-1.17235066, -1.1733334 , -1.16189819, ...,  0.06073533,\n",
              "        -0.02485018, -0.71458087],\n",
              "       [-1.18370552, -1.19050693, -1.17403447, ...,  0.91082493,\n",
              "         0.48858082, -1.73349937],\n",
              "       ...,\n",
              "       [ 2.37722586,  2.40718742,  2.37181639, ..., -0.28239847,\n",
              "        -0.58536316,  0.5481679 ],\n",
              "       [ 2.37034375,  2.38756053,  2.40371719, ..., -0.64218785,\n",
              "        -0.29955529, -0.61441973],\n",
              "       [ 2.35554837,  2.32657705,  2.38846017, ..., -0.30475364,\n",
              "         0.73882124, -1.32485918]])"
            ]
          },
          "metadata": {
            "tags": []
          },
          "execution_count": 8
        }
      ]
    },
    {
      "cell_type": "code",
      "metadata": {
        "id": "-hmzXYfrqmF0",
        "colab_type": "code",
        "colab": {}
      },
      "source": [
        "X_lately = X[-forecast_out:]"
      ],
      "execution_count": 0,
      "outputs": []
    },
    {
      "cell_type": "code",
      "metadata": {
        "id": "ZT89E36uqqMQ",
        "colab_type": "code",
        "colab": {}
      },
      "source": [
        "X = X[:-forecast_out]"
      ],
      "execution_count": 0,
      "outputs": []
    },
    {
      "cell_type": "code",
      "metadata": {
        "id": "c_XRpqkJqtUZ",
        "colab_type": "code",
        "outputId": "326a9fbc-0135-40b7-c8bd-70ae69f8088c",
        "colab": {
          "base_uri": "https://localhost:8080/",
          "height": 238
        }
      },
      "source": [
        "X"
      ],
      "execution_count": 0,
      "outputs": [
        {
          "output_type": "execute_result",
          "data": {
            "text/plain": [
              "array([[-1.16615713, -1.15580932, -1.15669704, ...,  0.02646967,\n",
              "        -0.95981143, -0.47954558],\n",
              "       [-1.17235066, -1.1733334 , -1.16189819, ...,  0.06073533,\n",
              "        -0.02485018, -0.71458087],\n",
              "       [-1.18370552, -1.19050693, -1.17403447, ...,  0.91082493,\n",
              "         0.48858082, -1.73349937],\n",
              "       ...,\n",
              "       [ 2.38961293,  2.41034216,  2.36453444, ..., -0.64806469,\n",
              "        -0.38565364,  1.09878227],\n",
              "       [ 2.38513966,  2.42681484,  2.41758693, ..., -0.81042091,\n",
              "        -0.83887765, -0.18643872],\n",
              "       [ 2.42195644,  2.4611619 ,  2.41550652, ..., -0.76401296,\n",
              "        -0.77866447,  0.56144855]])"
            ]
          },
          "metadata": {
            "tags": []
          },
          "execution_count": 11
        }
      ]
    },
    {
      "cell_type": "code",
      "metadata": {
        "id": "zh9eVyhvqwU_",
        "colab_type": "code",
        "outputId": "ca9d8b21-6184-41d5-cf58-e45a131f4dad",
        "colab": {
          "base_uri": "https://localhost:8080/",
          "height": 235
        }
      },
      "source": [
        "df.head()"
      ],
      "execution_count": 0,
      "outputs": [
        {
          "output_type": "execute_result",
          "data": {
            "text/html": [
              "<div>\n",
              "<style scoped>\n",
              "    .dataframe tbody tr th:only-of-type {\n",
              "        vertical-align: middle;\n",
              "    }\n",
              "\n",
              "    .dataframe tbody tr th {\n",
              "        vertical-align: top;\n",
              "    }\n",
              "\n",
              "    .dataframe thead th {\n",
              "        text-align: right;\n",
              "    }\n",
              "</style>\n",
              "<table border=\"1\" class=\"dataframe\">\n",
              "  <thead>\n",
              "    <tr style=\"text-align: right;\">\n",
              "      <th></th>\n",
              "      <th>High</th>\n",
              "      <th>Low</th>\n",
              "      <th>Open</th>\n",
              "      <th>Close</th>\n",
              "      <th>Volume</th>\n",
              "      <th>HighLow_PCT</th>\n",
              "      <th>PCT_CHANGE</th>\n",
              "      <th>label</th>\n",
              "    </tr>\n",
              "    <tr>\n",
              "      <th>Date</th>\n",
              "      <th></th>\n",
              "      <th></th>\n",
              "      <th></th>\n",
              "      <th></th>\n",
              "      <th></th>\n",
              "      <th></th>\n",
              "      <th></th>\n",
              "      <th></th>\n",
              "    </tr>\n",
              "  </thead>\n",
              "  <tbody>\n",
              "    <tr>\n",
              "      <th>2014-01-02</th>\n",
              "      <td>37.400002</td>\n",
              "      <td>37.099998</td>\n",
              "      <td>37.349998</td>\n",
              "      <td>37.160000</td>\n",
              "      <td>30632200.0</td>\n",
              "      <td>0.807328</td>\n",
              "      <td>-0.508698</td>\n",
              "      <td>32.985371</td>\n",
              "    </tr>\n",
              "    <tr>\n",
              "      <th>2014-01-03</th>\n",
              "      <td>37.220001</td>\n",
              "      <td>36.599998</td>\n",
              "      <td>37.200001</td>\n",
              "      <td>36.910000</td>\n",
              "      <td>31134800.0</td>\n",
              "      <td>1.679769</td>\n",
              "      <td>-0.779572</td>\n",
              "      <td>33.056034</td>\n",
              "    </tr>\n",
              "    <tr>\n",
              "      <th>2014-01-06</th>\n",
              "      <td>36.889999</td>\n",
              "      <td>36.110001</td>\n",
              "      <td>36.849998</td>\n",
              "      <td>36.130001</td>\n",
              "      <td>43603700.0</td>\n",
              "      <td>2.158867</td>\n",
              "      <td>-1.953860</td>\n",
              "      <td>33.135548</td>\n",
              "    </tr>\n",
              "    <tr>\n",
              "      <th>2014-01-07</th>\n",
              "      <td>36.490002</td>\n",
              "      <td>36.209999</td>\n",
              "      <td>36.330002</td>\n",
              "      <td>36.410000</td>\n",
              "      <td>35802800.0</td>\n",
              "      <td>0.769027</td>\n",
              "      <td>0.220198</td>\n",
              "      <td>33.347565</td>\n",
              "    </tr>\n",
              "    <tr>\n",
              "      <th>2014-01-08</th>\n",
              "      <td>36.139999</td>\n",
              "      <td>35.580002</td>\n",
              "      <td>36.000000</td>\n",
              "      <td>35.759998</td>\n",
              "      <td>59971700.0</td>\n",
              "      <td>1.565989</td>\n",
              "      <td>-0.666671</td>\n",
              "      <td>33.550739</td>\n",
              "    </tr>\n",
              "  </tbody>\n",
              "</table>\n",
              "</div>"
            ],
            "text/plain": [
              "                 High        Low       Open  ...  HighLow_PCT  PCT_CHANGE      label\n",
              "Date                                         ...                                    \n",
              "2014-01-02  37.400002  37.099998  37.349998  ...     0.807328   -0.508698  32.985371\n",
              "2014-01-03  37.220001  36.599998  37.200001  ...     1.679769   -0.779572  33.056034\n",
              "2014-01-06  36.889999  36.110001  36.849998  ...     2.158867   -1.953860  33.135548\n",
              "2014-01-07  36.490002  36.209999  36.330002  ...     0.769027    0.220198  33.347565\n",
              "2014-01-08  36.139999  35.580002  36.000000  ...     1.565989   -0.666671  33.550739\n",
              "\n",
              "[5 rows x 8 columns]"
            ]
          },
          "metadata": {
            "tags": []
          },
          "execution_count": 12
        }
      ]
    },
    {
      "cell_type": "code",
      "metadata": {
        "id": "vTCsoL92qxWa",
        "colab_type": "code",
        "outputId": "8212df8d-6664-4ce1-87ad-4e4c122f5673",
        "colab": {
          "base_uri": "https://localhost:8080/",
          "height": 235
        }
      },
      "source": [
        "df.tail()"
      ],
      "execution_count": 0,
      "outputs": [
        {
          "output_type": "execute_result",
          "data": {
            "text/html": [
              "<div>\n",
              "<style scoped>\n",
              "    .dataframe tbody tr th:only-of-type {\n",
              "        vertical-align: middle;\n",
              "    }\n",
              "\n",
              "    .dataframe tbody tr th {\n",
              "        vertical-align: top;\n",
              "    }\n",
              "\n",
              "    .dataframe thead th {\n",
              "        text-align: right;\n",
              "    }\n",
              "</style>\n",
              "<table border=\"1\" class=\"dataframe\">\n",
              "  <thead>\n",
              "    <tr style=\"text-align: right;\">\n",
              "      <th></th>\n",
              "      <th>High</th>\n",
              "      <th>Low</th>\n",
              "      <th>Open</th>\n",
              "      <th>Close</th>\n",
              "      <th>Volume</th>\n",
              "      <th>HighLow_PCT</th>\n",
              "      <th>PCT_CHANGE</th>\n",
              "      <th>label</th>\n",
              "    </tr>\n",
              "    <tr>\n",
              "      <th>Date</th>\n",
              "      <th></th>\n",
              "      <th></th>\n",
              "      <th></th>\n",
              "      <th></th>\n",
              "      <th></th>\n",
              "      <th></th>\n",
              "      <th></th>\n",
              "      <th></th>\n",
              "    </tr>\n",
              "  </thead>\n",
              "  <tbody>\n",
              "    <tr>\n",
              "      <th>2019-09-03</th>\n",
              "      <td>137.199997</td>\n",
              "      <td>135.699997</td>\n",
              "      <td>136.610001</td>\n",
              "      <td>136.039993</td>\n",
              "      <td>18869300.0</td>\n",
              "      <td>1.102617</td>\n",
              "      <td>-0.417252</td>\n",
              "      <td>NaN</td>\n",
              "    </tr>\n",
              "    <tr>\n",
              "      <th>2019-09-04</th>\n",
              "      <td>137.690002</td>\n",
              "      <td>136.479996</td>\n",
              "      <td>137.300003</td>\n",
              "      <td>137.630005</td>\n",
              "      <td>17995900.0</td>\n",
              "      <td>0.879174</td>\n",
              "      <td>0.240351</td>\n",
              "      <td>NaN</td>\n",
              "    </tr>\n",
              "    <tr>\n",
              "      <th>2019-09-05</th>\n",
              "      <td>140.380005</td>\n",
              "      <td>138.759995</td>\n",
              "      <td>139.110001</td>\n",
              "      <td>140.050003</td>\n",
              "      <td>26101800.0</td>\n",
              "      <td>1.156737</td>\n",
              "      <td>0.675726</td>\n",
              "      <td>NaN</td>\n",
              "    </tr>\n",
              "    <tr>\n",
              "      <th>2019-09-06</th>\n",
              "      <td>140.179993</td>\n",
              "      <td>138.199997</td>\n",
              "      <td>140.029999</td>\n",
              "      <td>139.100006</td>\n",
              "      <td>20824500.0</td>\n",
              "      <td>1.423433</td>\n",
              "      <td>-0.664138</td>\n",
              "      <td>NaN</td>\n",
              "    </tr>\n",
              "    <tr>\n",
              "      <th>2019-09-09</th>\n",
              "      <td>139.750000</td>\n",
              "      <td>136.460007</td>\n",
              "      <td>139.589996</td>\n",
              "      <td>137.520004</td>\n",
              "      <td>25773900.0</td>\n",
              "      <td>2.392374</td>\n",
              "      <td>-1.482909</td>\n",
              "      <td>NaN</td>\n",
              "    </tr>\n",
              "  </tbody>\n",
              "</table>\n",
              "</div>"
            ],
            "text/plain": [
              "                  High         Low        Open  ...  HighLow_PCT  PCT_CHANGE  label\n",
              "Date                                            ...                                \n",
              "2019-09-03  137.199997  135.699997  136.610001  ...     1.102617   -0.417252    NaN\n",
              "2019-09-04  137.690002  136.479996  137.300003  ...     0.879174    0.240351    NaN\n",
              "2019-09-05  140.380005  138.759995  139.110001  ...     1.156737    0.675726    NaN\n",
              "2019-09-06  140.179993  138.199997  140.029999  ...     1.423433   -0.664138    NaN\n",
              "2019-09-09  139.750000  136.460007  139.589996  ...     2.392374   -1.482909    NaN\n",
              "\n",
              "[5 rows x 8 columns]"
            ]
          },
          "metadata": {
            "tags": []
          },
          "execution_count": 13
        }
      ]
    },
    {
      "cell_type": "code",
      "metadata": {
        "id": "0Q1lsJTjqzPP",
        "colab_type": "code",
        "colab": {}
      },
      "source": [
        "df.dropna(inplace=True)"
      ],
      "execution_count": 0,
      "outputs": []
    },
    {
      "cell_type": "code",
      "metadata": {
        "id": "uCwjv5zKq1Hj",
        "colab_type": "code",
        "outputId": "ff0582f4-a7aa-4785-af8c-2a6516aa5686",
        "colab": {
          "base_uri": "https://localhost:8080/",
          "height": 235
        }
      },
      "source": [
        "df.tail()"
      ],
      "execution_count": 0,
      "outputs": [
        {
          "output_type": "execute_result",
          "data": {
            "text/html": [
              "<div>\n",
              "<style scoped>\n",
              "    .dataframe tbody tr th:only-of-type {\n",
              "        vertical-align: middle;\n",
              "    }\n",
              "\n",
              "    .dataframe tbody tr th {\n",
              "        vertical-align: top;\n",
              "    }\n",
              "\n",
              "    .dataframe thead th {\n",
              "        text-align: right;\n",
              "    }\n",
              "</style>\n",
              "<table border=\"1\" class=\"dataframe\">\n",
              "  <thead>\n",
              "    <tr style=\"text-align: right;\">\n",
              "      <th></th>\n",
              "      <th>High</th>\n",
              "      <th>Low</th>\n",
              "      <th>Open</th>\n",
              "      <th>Close</th>\n",
              "      <th>Volume</th>\n",
              "      <th>HighLow_PCT</th>\n",
              "      <th>PCT_CHANGE</th>\n",
              "      <th>label</th>\n",
              "    </tr>\n",
              "    <tr>\n",
              "      <th>Date</th>\n",
              "      <th></th>\n",
              "      <th></th>\n",
              "      <th></th>\n",
              "      <th></th>\n",
              "      <th></th>\n",
              "      <th></th>\n",
              "      <th></th>\n",
              "      <th></th>\n",
              "    </tr>\n",
              "  </thead>\n",
              "  <tbody>\n",
              "    <tr>\n",
              "      <th>2019-07-22</th>\n",
              "      <td>139.190002</td>\n",
              "      <td>137.330002</td>\n",
              "      <td>137.410004</td>\n",
              "      <td>138.429993</td>\n",
              "      <td>25074900.0</td>\n",
              "      <td>1.343640</td>\n",
              "      <td>0.742296</td>\n",
              "      <td>136.039993</td>\n",
              "    </tr>\n",
              "    <tr>\n",
              "      <th>2019-07-23</th>\n",
              "      <td>139.990005</td>\n",
              "      <td>138.029999</td>\n",
              "      <td>139.759995</td>\n",
              "      <td>139.289993</td>\n",
              "      <td>18034600.0</td>\n",
              "      <td>1.407141</td>\n",
              "      <td>-0.336292</td>\n",
              "      <td>137.630005</td>\n",
              "    </tr>\n",
              "    <tr>\n",
              "      <th>2019-07-24</th>\n",
              "      <td>140.740005</td>\n",
              "      <td>138.850006</td>\n",
              "      <td>138.899994</td>\n",
              "      <td>140.720001</td>\n",
              "      <td>20738300.0</td>\n",
              "      <td>1.343092</td>\n",
              "      <td>1.310301</td>\n",
              "      <td>140.050003</td>\n",
              "    </tr>\n",
              "    <tr>\n",
              "      <th>2019-07-25</th>\n",
              "      <td>140.610001</td>\n",
              "      <td>139.320007</td>\n",
              "      <td>140.429993</td>\n",
              "      <td>140.190002</td>\n",
              "      <td>18356900.0</td>\n",
              "      <td>0.920175</td>\n",
              "      <td>-0.170897</td>\n",
              "      <td>139.100006</td>\n",
              "    </tr>\n",
              "    <tr>\n",
              "      <th>2019-07-26</th>\n",
              "      <td>141.679993</td>\n",
              "      <td>140.300003</td>\n",
              "      <td>140.369995</td>\n",
              "      <td>141.339996</td>\n",
              "      <td>19037600.0</td>\n",
              "      <td>0.976362</td>\n",
              "      <td>0.691032</td>\n",
              "      <td>137.520004</td>\n",
              "    </tr>\n",
              "  </tbody>\n",
              "</table>\n",
              "</div>"
            ],
            "text/plain": [
              "                  High         Low  ...  PCT_CHANGE       label\n",
              "Date                                ...                        \n",
              "2019-07-22  139.190002  137.330002  ...    0.742296  136.039993\n",
              "2019-07-23  139.990005  138.029999  ...   -0.336292  137.630005\n",
              "2019-07-24  140.740005  138.850006  ...    1.310301  140.050003\n",
              "2019-07-25  140.610001  139.320007  ...   -0.170897  139.100006\n",
              "2019-07-26  141.679993  140.300003  ...    0.691032  137.520004\n",
              "\n",
              "[5 rows x 8 columns]"
            ]
          },
          "metadata": {
            "tags": []
          },
          "execution_count": 15
        }
      ]
    },
    {
      "cell_type": "code",
      "metadata": {
        "id": "yWQ8b75uq2il",
        "colab_type": "code",
        "colab": {}
      },
      "source": [
        "y = np.array(df['label'])"
      ],
      "execution_count": 0,
      "outputs": []
    },
    {
      "cell_type": "code",
      "metadata": {
        "id": "_Or0vujeq4Ih",
        "colab_type": "code",
        "outputId": "0fa78b1f-27a2-46a1-f9d1-908a724a44a6",
        "colab": {
          "base_uri": "https://localhost:8080/",
          "height": 51
        }
      },
      "source": [
        "y"
      ],
      "execution_count": 0,
      "outputs": [
        {
          "output_type": "execute_result",
          "data": {
            "text/plain": [
              "array([ 32.98537064,  33.05603409,  33.13554764, ..., 140.05000305,\n",
              "       139.1000061 , 137.52000427])"
            ]
          },
          "metadata": {
            "tags": []
          },
          "execution_count": 17
        }
      ]
    },
    {
      "cell_type": "code",
      "metadata": {
        "id": "6hHZbC3Dq5n7",
        "colab_type": "code",
        "colab": {}
      },
      "source": [
        "from sklearn import model_selection\n",
        "from sklearn.model_selection import train_test_split\n",
        "from sklearn import linear_model\n",
        "\n",
        "\n",
        "X_train, X_test, y_train, y_test = model_selection.train_test_split(X, y, test_size=0.2) #batchs and randomizes our data for training and predicting"
      ],
      "execution_count": 0,
      "outputs": []
    },
    {
      "cell_type": "code",
      "metadata": {
        "id": "UoY1EIPFq8Mj",
        "colab_type": "code",
        "outputId": "0a27ea3d-3650-4f58-846f-bdeb1835418d",
        "colab": {
          "base_uri": "https://localhost:8080/",
          "height": 71
        }
      },
      "source": [
        "la_reg = linear_model.Lasso(alpha=1.0) #linear regression model\n",
        "la_reg.fit(X_train, y_train)\n",
        "Accuracy = la_reg.score(X_test, y_test)"
      ],
      "execution_count": 0,
      "outputs": [
        {
          "output_type": "stream",
          "text": [
            "/usr/local/lib/python3.6/dist-packages/sklearn/linear_model/coordinate_descent.py:475: ConvergenceWarning: Objective did not converge. You might want to increase the number of iterations. Duality gap: 162.97465841790108, tolerance: 98.02364155655928\n",
            "  positive)\n"
          ],
          "name": "stderr"
        }
      ]
    },
    {
      "cell_type": "code",
      "metadata": {
        "id": "IttraClJq-iT",
        "colab_type": "code",
        "outputId": "4bb1b156-7720-4b12-e178-bce50e74fbeb",
        "colab": {
          "base_uri": "https://localhost:8080/",
          "height": 34
        }
      },
      "source": [
        "Accuracy"
      ],
      "execution_count": 0,
      "outputs": [
        {
          "output_type": "execute_result",
          "data": {
            "text/plain": [
              "0.9802453349326051"
            ]
          },
          "metadata": {
            "tags": []
          },
          "execution_count": 20
        }
      ]
    },
    {
      "cell_type": "code",
      "metadata": {
        "id": "PdxCG-BarCBd",
        "colab_type": "code",
        "outputId": "49a8232d-e920-4a20-a956-dc69e005bd76",
        "colab": {
          "base_uri": "https://localhost:8080/",
          "height": 153
        }
      },
      "source": [
        "forecast_set_lr = la_reg.predict(X_lately) #predicts our values for our x_lately variable\n",
        "forecast_set_lr"
      ],
      "execution_count": 0,
      "outputs": [
        {
          "output_type": "execute_result",
          "data": {
            "text/plain": [
              "array([142.27591077, 142.15703765, 140.20394484, 141.09550456,\n",
              "       138.69560175, 134.12189337, 136.14105276, 135.76681924,\n",
              "       139.43515367, 139.82050933, 138.31598064, 139.0349703 ,\n",
              "       137.14281349, 135.04486751, 137.1684044 , 139.35758302,\n",
              "       139.52790501, 140.35553689, 139.64598272, 137.92731319,\n",
              "       136.26736288, 137.32756142, 136.32214691, 139.27263753,\n",
              "       139.6288551 , 137.96892637, 138.59303311, 141.25364675,\n",
              "       140.9228461 , 140.08306005])"
            ]
          },
          "metadata": {
            "tags": []
          },
          "execution_count": 21
        }
      ]
    },
    {
      "cell_type": "code",
      "metadata": {
        "id": "Z1MoQ9uXrFW-",
        "colab_type": "code",
        "colab": {}
      },
      "source": [
        "df['Forecast'] = np.nan #Fills the  Forcast column with NAN values "
      ],
      "execution_count": 0,
      "outputs": []
    },
    {
      "cell_type": "code",
      "metadata": {
        "id": "o808xp92rHUr",
        "colab_type": "code",
        "outputId": "7b5908ad-62f1-439e-f535-7b74060ea11d",
        "colab": {
          "base_uri": "https://localhost:8080/",
          "height": 235
        }
      },
      "source": [
        "df.tail() # Shows the bottom values of the database with our Forecast colum filled with NAN"
      ],
      "execution_count": 0,
      "outputs": [
        {
          "output_type": "execute_result",
          "data": {
            "text/html": [
              "<div>\n",
              "<style scoped>\n",
              "    .dataframe tbody tr th:only-of-type {\n",
              "        vertical-align: middle;\n",
              "    }\n",
              "\n",
              "    .dataframe tbody tr th {\n",
              "        vertical-align: top;\n",
              "    }\n",
              "\n",
              "    .dataframe thead th {\n",
              "        text-align: right;\n",
              "    }\n",
              "</style>\n",
              "<table border=\"1\" class=\"dataframe\">\n",
              "  <thead>\n",
              "    <tr style=\"text-align: right;\">\n",
              "      <th></th>\n",
              "      <th>High</th>\n",
              "      <th>Low</th>\n",
              "      <th>Open</th>\n",
              "      <th>Close</th>\n",
              "      <th>Volume</th>\n",
              "      <th>HighLow_PCT</th>\n",
              "      <th>PCT_CHANGE</th>\n",
              "      <th>label</th>\n",
              "      <th>Forecast</th>\n",
              "    </tr>\n",
              "    <tr>\n",
              "      <th>Date</th>\n",
              "      <th></th>\n",
              "      <th></th>\n",
              "      <th></th>\n",
              "      <th></th>\n",
              "      <th></th>\n",
              "      <th></th>\n",
              "      <th></th>\n",
              "      <th></th>\n",
              "      <th></th>\n",
              "    </tr>\n",
              "  </thead>\n",
              "  <tbody>\n",
              "    <tr>\n",
              "      <th>2019-07-22</th>\n",
              "      <td>139.190002</td>\n",
              "      <td>137.330002</td>\n",
              "      <td>137.410004</td>\n",
              "      <td>138.429993</td>\n",
              "      <td>25074900.0</td>\n",
              "      <td>1.343640</td>\n",
              "      <td>0.742296</td>\n",
              "      <td>136.039993</td>\n",
              "      <td>NaN</td>\n",
              "    </tr>\n",
              "    <tr>\n",
              "      <th>2019-07-23</th>\n",
              "      <td>139.990005</td>\n",
              "      <td>138.029999</td>\n",
              "      <td>139.759995</td>\n",
              "      <td>139.289993</td>\n",
              "      <td>18034600.0</td>\n",
              "      <td>1.407141</td>\n",
              "      <td>-0.336292</td>\n",
              "      <td>137.630005</td>\n",
              "      <td>NaN</td>\n",
              "    </tr>\n",
              "    <tr>\n",
              "      <th>2019-07-24</th>\n",
              "      <td>140.740005</td>\n",
              "      <td>138.850006</td>\n",
              "      <td>138.899994</td>\n",
              "      <td>140.720001</td>\n",
              "      <td>20738300.0</td>\n",
              "      <td>1.343092</td>\n",
              "      <td>1.310301</td>\n",
              "      <td>140.050003</td>\n",
              "      <td>NaN</td>\n",
              "    </tr>\n",
              "    <tr>\n",
              "      <th>2019-07-25</th>\n",
              "      <td>140.610001</td>\n",
              "      <td>139.320007</td>\n",
              "      <td>140.429993</td>\n",
              "      <td>140.190002</td>\n",
              "      <td>18356900.0</td>\n",
              "      <td>0.920175</td>\n",
              "      <td>-0.170897</td>\n",
              "      <td>139.100006</td>\n",
              "      <td>NaN</td>\n",
              "    </tr>\n",
              "    <tr>\n",
              "      <th>2019-07-26</th>\n",
              "      <td>141.679993</td>\n",
              "      <td>140.300003</td>\n",
              "      <td>140.369995</td>\n",
              "      <td>141.339996</td>\n",
              "      <td>19037600.0</td>\n",
              "      <td>0.976362</td>\n",
              "      <td>0.691032</td>\n",
              "      <td>137.520004</td>\n",
              "      <td>NaN</td>\n",
              "    </tr>\n",
              "  </tbody>\n",
              "</table>\n",
              "</div>"
            ],
            "text/plain": [
              "                  High         Low  ...       label  Forecast\n",
              "Date                                ...                      \n",
              "2019-07-22  139.190002  137.330002  ...  136.039993       NaN\n",
              "2019-07-23  139.990005  138.029999  ...  137.630005       NaN\n",
              "2019-07-24  140.740005  138.850006  ...  140.050003       NaN\n",
              "2019-07-25  140.610001  139.320007  ...  139.100006       NaN\n",
              "2019-07-26  141.679993  140.300003  ...  137.520004       NaN\n",
              "\n",
              "[5 rows x 9 columns]"
            ]
          },
          "metadata": {
            "tags": []
          },
          "execution_count": 23
        }
      ]
    },
    {
      "cell_type": "code",
      "metadata": {
        "id": "BYDgEL_8rKH5",
        "colab_type": "code",
        "outputId": "efe9e2a6-ac4f-49ee-bb8d-675abfc1de65",
        "colab": {
          "base_uri": "https://localhost:8080/",
          "height": 235
        }
      },
      "source": [
        "df.head() #Shows our top values for our database with the Forecast column filled with NAN"
      ],
      "execution_count": 0,
      "outputs": [
        {
          "output_type": "execute_result",
          "data": {
            "text/html": [
              "<div>\n",
              "<style scoped>\n",
              "    .dataframe tbody tr th:only-of-type {\n",
              "        vertical-align: middle;\n",
              "    }\n",
              "\n",
              "    .dataframe tbody tr th {\n",
              "        vertical-align: top;\n",
              "    }\n",
              "\n",
              "    .dataframe thead th {\n",
              "        text-align: right;\n",
              "    }\n",
              "</style>\n",
              "<table border=\"1\" class=\"dataframe\">\n",
              "  <thead>\n",
              "    <tr style=\"text-align: right;\">\n",
              "      <th></th>\n",
              "      <th>High</th>\n",
              "      <th>Low</th>\n",
              "      <th>Open</th>\n",
              "      <th>Close</th>\n",
              "      <th>Volume</th>\n",
              "      <th>HighLow_PCT</th>\n",
              "      <th>PCT_CHANGE</th>\n",
              "      <th>label</th>\n",
              "      <th>Forecast</th>\n",
              "    </tr>\n",
              "    <tr>\n",
              "      <th>Date</th>\n",
              "      <th></th>\n",
              "      <th></th>\n",
              "      <th></th>\n",
              "      <th></th>\n",
              "      <th></th>\n",
              "      <th></th>\n",
              "      <th></th>\n",
              "      <th></th>\n",
              "      <th></th>\n",
              "    </tr>\n",
              "  </thead>\n",
              "  <tbody>\n",
              "    <tr>\n",
              "      <th>2014-01-02</th>\n",
              "      <td>37.400002</td>\n",
              "      <td>37.099998</td>\n",
              "      <td>37.349998</td>\n",
              "      <td>37.160000</td>\n",
              "      <td>30632200.0</td>\n",
              "      <td>0.807328</td>\n",
              "      <td>-0.508698</td>\n",
              "      <td>32.985371</td>\n",
              "      <td>NaN</td>\n",
              "    </tr>\n",
              "    <tr>\n",
              "      <th>2014-01-03</th>\n",
              "      <td>37.220001</td>\n",
              "      <td>36.599998</td>\n",
              "      <td>37.200001</td>\n",
              "      <td>36.910000</td>\n",
              "      <td>31134800.0</td>\n",
              "      <td>1.679769</td>\n",
              "      <td>-0.779572</td>\n",
              "      <td>33.056034</td>\n",
              "      <td>NaN</td>\n",
              "    </tr>\n",
              "    <tr>\n",
              "      <th>2014-01-06</th>\n",
              "      <td>36.889999</td>\n",
              "      <td>36.110001</td>\n",
              "      <td>36.849998</td>\n",
              "      <td>36.130001</td>\n",
              "      <td>43603700.0</td>\n",
              "      <td>2.158867</td>\n",
              "      <td>-1.953860</td>\n",
              "      <td>33.135548</td>\n",
              "      <td>NaN</td>\n",
              "    </tr>\n",
              "    <tr>\n",
              "      <th>2014-01-07</th>\n",
              "      <td>36.490002</td>\n",
              "      <td>36.209999</td>\n",
              "      <td>36.330002</td>\n",
              "      <td>36.410000</td>\n",
              "      <td>35802800.0</td>\n",
              "      <td>0.769027</td>\n",
              "      <td>0.220198</td>\n",
              "      <td>33.347565</td>\n",
              "      <td>NaN</td>\n",
              "    </tr>\n",
              "    <tr>\n",
              "      <th>2014-01-08</th>\n",
              "      <td>36.139999</td>\n",
              "      <td>35.580002</td>\n",
              "      <td>36.000000</td>\n",
              "      <td>35.759998</td>\n",
              "      <td>59971700.0</td>\n",
              "      <td>1.565989</td>\n",
              "      <td>-0.666671</td>\n",
              "      <td>33.550739</td>\n",
              "      <td>NaN</td>\n",
              "    </tr>\n",
              "  </tbody>\n",
              "</table>\n",
              "</div>"
            ],
            "text/plain": [
              "                 High        Low       Open  ...  PCT_CHANGE      label  Forecast\n",
              "Date                                         ...                                 \n",
              "2014-01-02  37.400002  37.099998  37.349998  ...   -0.508698  32.985371       NaN\n",
              "2014-01-03  37.220001  36.599998  37.200001  ...   -0.779572  33.056034       NaN\n",
              "2014-01-06  36.889999  36.110001  36.849998  ...   -1.953860  33.135548       NaN\n",
              "2014-01-07  36.490002  36.209999  36.330002  ...    0.220198  33.347565       NaN\n",
              "2014-01-08  36.139999  35.580002  36.000000  ...   -0.666671  33.550739       NaN\n",
              "\n",
              "[5 rows x 9 columns]"
            ]
          },
          "metadata": {
            "tags": []
          },
          "execution_count": 24
        }
      ]
    },
    {
      "cell_type": "code",
      "metadata": {
        "id": "isXKSJ3GrL8U",
        "colab_type": "code",
        "outputId": "258c6e7b-28d5-4928-b810-61bff36a58a7",
        "colab": {
          "base_uri": "https://localhost:8080/",
          "height": 34
        }
      },
      "source": [
        "last_date = df.iloc[-1].name  #grabs the last day of the dataset\n",
        "last_date                     #prints the last day time stamp"
      ],
      "execution_count": 0,
      "outputs": [
        {
          "output_type": "execute_result",
          "data": {
            "text/plain": [
              "Timestamp('2019-07-26 00:00:00')"
            ]
          },
          "metadata": {
            "tags": []
          },
          "execution_count": 25
        }
      ]
    },
    {
      "cell_type": "code",
      "metadata": {
        "id": "0_2T2cQ9rQtx",
        "colab_type": "code",
        "outputId": "886c5d14-6a55-4d7e-d2c3-f552c87f8a17",
        "colab": {
          "base_uri": "https://localhost:8080/",
          "height": 34
        }
      },
      "source": [
        "last_unix = last_date.timestamp()     #grabs the timestamp in days\n",
        "last_unix #prints the duration of t"
      ],
      "execution_count": 0,
      "outputs": [
        {
          "output_type": "execute_result",
          "data": {
            "text/plain": [
              "1564099200.0"
            ]
          },
          "metadata": {
            "tags": []
          },
          "execution_count": 26
        }
      ]
    },
    {
      "cell_type": "code",
      "metadata": {
        "id": "R08zhYKFrTLv",
        "colab_type": "code",
        "colab": {}
      },
      "source": [
        "one_day = 86400               #one day has 86400 seconds"
      ],
      "execution_count": 0,
      "outputs": []
    },
    {
      "cell_type": "code",
      "metadata": {
        "id": "8wsXFiBYrUuH",
        "colab_type": "code",
        "outputId": "8c465241-3484-4a41-b35f-39838dbbd5ad",
        "colab": {
          "base_uri": "https://localhost:8080/",
          "height": 34
        }
      },
      "source": [
        "next_unix = last_unix + one_day       #adds a day to the last day\n",
        "next_unix                               # shows the seconds added to the last day seconds"
      ],
      "execution_count": 0,
      "outputs": [
        {
          "output_type": "execute_result",
          "data": {
            "text/plain": [
              "1564185600.0"
            ]
          },
          "metadata": {
            "tags": []
          },
          "execution_count": 28
        }
      ]
    },
    {
      "cell_type": "code",
      "metadata": {
        "id": "wL3AV_KjrWLT",
        "colab_type": "code",
        "colab": {}
      },
      "source": [
        "for i in forecast_set_lr:           #A for loop to add more days and predictions to our Forecast column\n",
        "    next_date = datetime.datetime.fromtimestamp(next_unix)\n",
        "    next_unix += 86400\n",
        "    df.loc[next_date] = [np.nan for _ in range(len(df.columns)-1)]+[i]"
      ],
      "execution_count": 0,
      "outputs": []
    },
    {
      "cell_type": "code",
      "metadata": {
        "id": "_qfore6orYh6",
        "colab_type": "code",
        "outputId": "8fd94664-493b-491e-c29c-420fca9a8bef",
        "colab": {
          "base_uri": "https://localhost:8080/",
          "height": 700
        }
      },
      "source": [
        "df.tail(20)"
      ],
      "execution_count": 0,
      "outputs": [
        {
          "output_type": "execute_result",
          "data": {
            "text/html": [
              "<div>\n",
              "<style scoped>\n",
              "    .dataframe tbody tr th:only-of-type {\n",
              "        vertical-align: middle;\n",
              "    }\n",
              "\n",
              "    .dataframe tbody tr th {\n",
              "        vertical-align: top;\n",
              "    }\n",
              "\n",
              "    .dataframe thead th {\n",
              "        text-align: right;\n",
              "    }\n",
              "</style>\n",
              "<table border=\"1\" class=\"dataframe\">\n",
              "  <thead>\n",
              "    <tr style=\"text-align: right;\">\n",
              "      <th></th>\n",
              "      <th>High</th>\n",
              "      <th>Low</th>\n",
              "      <th>Open</th>\n",
              "      <th>Close</th>\n",
              "      <th>Volume</th>\n",
              "      <th>HighLow_PCT</th>\n",
              "      <th>PCT_CHANGE</th>\n",
              "      <th>label</th>\n",
              "      <th>Forecast</th>\n",
              "    </tr>\n",
              "    <tr>\n",
              "      <th>Date</th>\n",
              "      <th></th>\n",
              "      <th></th>\n",
              "      <th></th>\n",
              "      <th></th>\n",
              "      <th></th>\n",
              "      <th></th>\n",
              "      <th></th>\n",
              "      <th></th>\n",
              "      <th></th>\n",
              "    </tr>\n",
              "  </thead>\n",
              "  <tbody>\n",
              "    <tr>\n",
              "      <th>2019-08-06</th>\n",
              "      <td>NaN</td>\n",
              "      <td>NaN</td>\n",
              "      <td>NaN</td>\n",
              "      <td>NaN</td>\n",
              "      <td>NaN</td>\n",
              "      <td>NaN</td>\n",
              "      <td>NaN</td>\n",
              "      <td>NaN</td>\n",
              "      <td>138.315981</td>\n",
              "    </tr>\n",
              "    <tr>\n",
              "      <th>2019-08-07</th>\n",
              "      <td>NaN</td>\n",
              "      <td>NaN</td>\n",
              "      <td>NaN</td>\n",
              "      <td>NaN</td>\n",
              "      <td>NaN</td>\n",
              "      <td>NaN</td>\n",
              "      <td>NaN</td>\n",
              "      <td>NaN</td>\n",
              "      <td>139.034970</td>\n",
              "    </tr>\n",
              "    <tr>\n",
              "      <th>2019-08-08</th>\n",
              "      <td>NaN</td>\n",
              "      <td>NaN</td>\n",
              "      <td>NaN</td>\n",
              "      <td>NaN</td>\n",
              "      <td>NaN</td>\n",
              "      <td>NaN</td>\n",
              "      <td>NaN</td>\n",
              "      <td>NaN</td>\n",
              "      <td>137.142813</td>\n",
              "    </tr>\n",
              "    <tr>\n",
              "      <th>2019-08-09</th>\n",
              "      <td>NaN</td>\n",
              "      <td>NaN</td>\n",
              "      <td>NaN</td>\n",
              "      <td>NaN</td>\n",
              "      <td>NaN</td>\n",
              "      <td>NaN</td>\n",
              "      <td>NaN</td>\n",
              "      <td>NaN</td>\n",
              "      <td>135.044868</td>\n",
              "    </tr>\n",
              "    <tr>\n",
              "      <th>2019-08-10</th>\n",
              "      <td>NaN</td>\n",
              "      <td>NaN</td>\n",
              "      <td>NaN</td>\n",
              "      <td>NaN</td>\n",
              "      <td>NaN</td>\n",
              "      <td>NaN</td>\n",
              "      <td>NaN</td>\n",
              "      <td>NaN</td>\n",
              "      <td>137.168404</td>\n",
              "    </tr>\n",
              "    <tr>\n",
              "      <th>2019-08-11</th>\n",
              "      <td>NaN</td>\n",
              "      <td>NaN</td>\n",
              "      <td>NaN</td>\n",
              "      <td>NaN</td>\n",
              "      <td>NaN</td>\n",
              "      <td>NaN</td>\n",
              "      <td>NaN</td>\n",
              "      <td>NaN</td>\n",
              "      <td>139.357583</td>\n",
              "    </tr>\n",
              "    <tr>\n",
              "      <th>2019-08-12</th>\n",
              "      <td>NaN</td>\n",
              "      <td>NaN</td>\n",
              "      <td>NaN</td>\n",
              "      <td>NaN</td>\n",
              "      <td>NaN</td>\n",
              "      <td>NaN</td>\n",
              "      <td>NaN</td>\n",
              "      <td>NaN</td>\n",
              "      <td>139.527905</td>\n",
              "    </tr>\n",
              "    <tr>\n",
              "      <th>2019-08-13</th>\n",
              "      <td>NaN</td>\n",
              "      <td>NaN</td>\n",
              "      <td>NaN</td>\n",
              "      <td>NaN</td>\n",
              "      <td>NaN</td>\n",
              "      <td>NaN</td>\n",
              "      <td>NaN</td>\n",
              "      <td>NaN</td>\n",
              "      <td>140.355537</td>\n",
              "    </tr>\n",
              "    <tr>\n",
              "      <th>2019-08-14</th>\n",
              "      <td>NaN</td>\n",
              "      <td>NaN</td>\n",
              "      <td>NaN</td>\n",
              "      <td>NaN</td>\n",
              "      <td>NaN</td>\n",
              "      <td>NaN</td>\n",
              "      <td>NaN</td>\n",
              "      <td>NaN</td>\n",
              "      <td>139.645983</td>\n",
              "    </tr>\n",
              "    <tr>\n",
              "      <th>2019-08-15</th>\n",
              "      <td>NaN</td>\n",
              "      <td>NaN</td>\n",
              "      <td>NaN</td>\n",
              "      <td>NaN</td>\n",
              "      <td>NaN</td>\n",
              "      <td>NaN</td>\n",
              "      <td>NaN</td>\n",
              "      <td>NaN</td>\n",
              "      <td>137.927313</td>\n",
              "    </tr>\n",
              "    <tr>\n",
              "      <th>2019-08-16</th>\n",
              "      <td>NaN</td>\n",
              "      <td>NaN</td>\n",
              "      <td>NaN</td>\n",
              "      <td>NaN</td>\n",
              "      <td>NaN</td>\n",
              "      <td>NaN</td>\n",
              "      <td>NaN</td>\n",
              "      <td>NaN</td>\n",
              "      <td>136.267363</td>\n",
              "    </tr>\n",
              "    <tr>\n",
              "      <th>2019-08-17</th>\n",
              "      <td>NaN</td>\n",
              "      <td>NaN</td>\n",
              "      <td>NaN</td>\n",
              "      <td>NaN</td>\n",
              "      <td>NaN</td>\n",
              "      <td>NaN</td>\n",
              "      <td>NaN</td>\n",
              "      <td>NaN</td>\n",
              "      <td>137.327561</td>\n",
              "    </tr>\n",
              "    <tr>\n",
              "      <th>2019-08-18</th>\n",
              "      <td>NaN</td>\n",
              "      <td>NaN</td>\n",
              "      <td>NaN</td>\n",
              "      <td>NaN</td>\n",
              "      <td>NaN</td>\n",
              "      <td>NaN</td>\n",
              "      <td>NaN</td>\n",
              "      <td>NaN</td>\n",
              "      <td>136.322147</td>\n",
              "    </tr>\n",
              "    <tr>\n",
              "      <th>2019-08-19</th>\n",
              "      <td>NaN</td>\n",
              "      <td>NaN</td>\n",
              "      <td>NaN</td>\n",
              "      <td>NaN</td>\n",
              "      <td>NaN</td>\n",
              "      <td>NaN</td>\n",
              "      <td>NaN</td>\n",
              "      <td>NaN</td>\n",
              "      <td>139.272638</td>\n",
              "    </tr>\n",
              "    <tr>\n",
              "      <th>2019-08-20</th>\n",
              "      <td>NaN</td>\n",
              "      <td>NaN</td>\n",
              "      <td>NaN</td>\n",
              "      <td>NaN</td>\n",
              "      <td>NaN</td>\n",
              "      <td>NaN</td>\n",
              "      <td>NaN</td>\n",
              "      <td>NaN</td>\n",
              "      <td>139.628855</td>\n",
              "    </tr>\n",
              "    <tr>\n",
              "      <th>2019-08-21</th>\n",
              "      <td>NaN</td>\n",
              "      <td>NaN</td>\n",
              "      <td>NaN</td>\n",
              "      <td>NaN</td>\n",
              "      <td>NaN</td>\n",
              "      <td>NaN</td>\n",
              "      <td>NaN</td>\n",
              "      <td>NaN</td>\n",
              "      <td>137.968926</td>\n",
              "    </tr>\n",
              "    <tr>\n",
              "      <th>2019-08-22</th>\n",
              "      <td>NaN</td>\n",
              "      <td>NaN</td>\n",
              "      <td>NaN</td>\n",
              "      <td>NaN</td>\n",
              "      <td>NaN</td>\n",
              "      <td>NaN</td>\n",
              "      <td>NaN</td>\n",
              "      <td>NaN</td>\n",
              "      <td>138.593033</td>\n",
              "    </tr>\n",
              "    <tr>\n",
              "      <th>2019-08-23</th>\n",
              "      <td>NaN</td>\n",
              "      <td>NaN</td>\n",
              "      <td>NaN</td>\n",
              "      <td>NaN</td>\n",
              "      <td>NaN</td>\n",
              "      <td>NaN</td>\n",
              "      <td>NaN</td>\n",
              "      <td>NaN</td>\n",
              "      <td>141.253647</td>\n",
              "    </tr>\n",
              "    <tr>\n",
              "      <th>2019-08-24</th>\n",
              "      <td>NaN</td>\n",
              "      <td>NaN</td>\n",
              "      <td>NaN</td>\n",
              "      <td>NaN</td>\n",
              "      <td>NaN</td>\n",
              "      <td>NaN</td>\n",
              "      <td>NaN</td>\n",
              "      <td>NaN</td>\n",
              "      <td>140.922846</td>\n",
              "    </tr>\n",
              "    <tr>\n",
              "      <th>2019-08-25</th>\n",
              "      <td>NaN</td>\n",
              "      <td>NaN</td>\n",
              "      <td>NaN</td>\n",
              "      <td>NaN</td>\n",
              "      <td>NaN</td>\n",
              "      <td>NaN</td>\n",
              "      <td>NaN</td>\n",
              "      <td>NaN</td>\n",
              "      <td>140.083060</td>\n",
              "    </tr>\n",
              "  </tbody>\n",
              "</table>\n",
              "</div>"
            ],
            "text/plain": [
              "            High  Low  Open  Close  ...  HighLow_PCT  PCT_CHANGE  label    Forecast\n",
              "Date                                ...                                            \n",
              "2019-08-06   NaN  NaN   NaN    NaN  ...          NaN         NaN    NaN  138.315981\n",
              "2019-08-07   NaN  NaN   NaN    NaN  ...          NaN         NaN    NaN  139.034970\n",
              "2019-08-08   NaN  NaN   NaN    NaN  ...          NaN         NaN    NaN  137.142813\n",
              "2019-08-09   NaN  NaN   NaN    NaN  ...          NaN         NaN    NaN  135.044868\n",
              "2019-08-10   NaN  NaN   NaN    NaN  ...          NaN         NaN    NaN  137.168404\n",
              "2019-08-11   NaN  NaN   NaN    NaN  ...          NaN         NaN    NaN  139.357583\n",
              "2019-08-12   NaN  NaN   NaN    NaN  ...          NaN         NaN    NaN  139.527905\n",
              "2019-08-13   NaN  NaN   NaN    NaN  ...          NaN         NaN    NaN  140.355537\n",
              "2019-08-14   NaN  NaN   NaN    NaN  ...          NaN         NaN    NaN  139.645983\n",
              "2019-08-15   NaN  NaN   NaN    NaN  ...          NaN         NaN    NaN  137.927313\n",
              "2019-08-16   NaN  NaN   NaN    NaN  ...          NaN         NaN    NaN  136.267363\n",
              "2019-08-17   NaN  NaN   NaN    NaN  ...          NaN         NaN    NaN  137.327561\n",
              "2019-08-18   NaN  NaN   NaN    NaN  ...          NaN         NaN    NaN  136.322147\n",
              "2019-08-19   NaN  NaN   NaN    NaN  ...          NaN         NaN    NaN  139.272638\n",
              "2019-08-20   NaN  NaN   NaN    NaN  ...          NaN         NaN    NaN  139.628855\n",
              "2019-08-21   NaN  NaN   NaN    NaN  ...          NaN         NaN    NaN  137.968926\n",
              "2019-08-22   NaN  NaN   NaN    NaN  ...          NaN         NaN    NaN  138.593033\n",
              "2019-08-23   NaN  NaN   NaN    NaN  ...          NaN         NaN    NaN  141.253647\n",
              "2019-08-24   NaN  NaN   NaN    NaN  ...          NaN         NaN    NaN  140.922846\n",
              "2019-08-25   NaN  NaN   NaN    NaN  ...          NaN         NaN    NaN  140.083060\n",
              "\n",
              "[20 rows x 9 columns]"
            ]
          },
          "metadata": {
            "tags": []
          },
          "execution_count": 30
        }
      ]
    },
    {
      "cell_type": "code",
      "metadata": {
        "id": "C9GNxfpkraS3",
        "colab_type": "code",
        "outputId": "52ab4e48-3725-42fc-a7ef-2ed4c47448fc",
        "colab": {
          "base_uri": "https://localhost:8080/",
          "height": 235
        }
      },
      "source": [
        "df.head()"
      ],
      "execution_count": 0,
      "outputs": [
        {
          "output_type": "execute_result",
          "data": {
            "text/html": [
              "<div>\n",
              "<style scoped>\n",
              "    .dataframe tbody tr th:only-of-type {\n",
              "        vertical-align: middle;\n",
              "    }\n",
              "\n",
              "    .dataframe tbody tr th {\n",
              "        vertical-align: top;\n",
              "    }\n",
              "\n",
              "    .dataframe thead th {\n",
              "        text-align: right;\n",
              "    }\n",
              "</style>\n",
              "<table border=\"1\" class=\"dataframe\">\n",
              "  <thead>\n",
              "    <tr style=\"text-align: right;\">\n",
              "      <th></th>\n",
              "      <th>High</th>\n",
              "      <th>Low</th>\n",
              "      <th>Open</th>\n",
              "      <th>Close</th>\n",
              "      <th>Volume</th>\n",
              "      <th>HighLow_PCT</th>\n",
              "      <th>PCT_CHANGE</th>\n",
              "      <th>label</th>\n",
              "      <th>Forecast</th>\n",
              "    </tr>\n",
              "    <tr>\n",
              "      <th>Date</th>\n",
              "      <th></th>\n",
              "      <th></th>\n",
              "      <th></th>\n",
              "      <th></th>\n",
              "      <th></th>\n",
              "      <th></th>\n",
              "      <th></th>\n",
              "      <th></th>\n",
              "      <th></th>\n",
              "    </tr>\n",
              "  </thead>\n",
              "  <tbody>\n",
              "    <tr>\n",
              "      <th>2014-01-02</th>\n",
              "      <td>37.400002</td>\n",
              "      <td>37.099998</td>\n",
              "      <td>37.349998</td>\n",
              "      <td>37.160000</td>\n",
              "      <td>30632200.0</td>\n",
              "      <td>0.807328</td>\n",
              "      <td>-0.508698</td>\n",
              "      <td>32.985371</td>\n",
              "      <td>NaN</td>\n",
              "    </tr>\n",
              "    <tr>\n",
              "      <th>2014-01-03</th>\n",
              "      <td>37.220001</td>\n",
              "      <td>36.599998</td>\n",
              "      <td>37.200001</td>\n",
              "      <td>36.910000</td>\n",
              "      <td>31134800.0</td>\n",
              "      <td>1.679769</td>\n",
              "      <td>-0.779572</td>\n",
              "      <td>33.056034</td>\n",
              "      <td>NaN</td>\n",
              "    </tr>\n",
              "    <tr>\n",
              "      <th>2014-01-06</th>\n",
              "      <td>36.889999</td>\n",
              "      <td>36.110001</td>\n",
              "      <td>36.849998</td>\n",
              "      <td>36.130001</td>\n",
              "      <td>43603700.0</td>\n",
              "      <td>2.158867</td>\n",
              "      <td>-1.953860</td>\n",
              "      <td>33.135548</td>\n",
              "      <td>NaN</td>\n",
              "    </tr>\n",
              "    <tr>\n",
              "      <th>2014-01-07</th>\n",
              "      <td>36.490002</td>\n",
              "      <td>36.209999</td>\n",
              "      <td>36.330002</td>\n",
              "      <td>36.410000</td>\n",
              "      <td>35802800.0</td>\n",
              "      <td>0.769027</td>\n",
              "      <td>0.220198</td>\n",
              "      <td>33.347565</td>\n",
              "      <td>NaN</td>\n",
              "    </tr>\n",
              "    <tr>\n",
              "      <th>2014-01-08</th>\n",
              "      <td>36.139999</td>\n",
              "      <td>35.580002</td>\n",
              "      <td>36.000000</td>\n",
              "      <td>35.759998</td>\n",
              "      <td>59971700.0</td>\n",
              "      <td>1.565989</td>\n",
              "      <td>-0.666671</td>\n",
              "      <td>33.550739</td>\n",
              "      <td>NaN</td>\n",
              "    </tr>\n",
              "  </tbody>\n",
              "</table>\n",
              "</div>"
            ],
            "text/plain": [
              "                 High        Low       Open  ...  PCT_CHANGE      label  Forecast\n",
              "Date                                         ...                                 \n",
              "2014-01-02  37.400002  37.099998  37.349998  ...   -0.508698  32.985371       NaN\n",
              "2014-01-03  37.220001  36.599998  37.200001  ...   -0.779572  33.056034       NaN\n",
              "2014-01-06  36.889999  36.110001  36.849998  ...   -1.953860  33.135548       NaN\n",
              "2014-01-07  36.490002  36.209999  36.330002  ...    0.220198  33.347565       NaN\n",
              "2014-01-08  36.139999  35.580002  36.000000  ...   -0.666671  33.550739       NaN\n",
              "\n",
              "[5 rows x 9 columns]"
            ]
          },
          "metadata": {
            "tags": []
          },
          "execution_count": 31
        }
      ]
    },
    {
      "cell_type": "code",
      "metadata": {
        "id": "LI3BYDdMrdyL",
        "colab_type": "code",
        "outputId": "f8754525-e73f-42ea-99dd-133dbfb32c0d",
        "colab": {
          "base_uri": "https://localhost:8080/",
          "height": 276
        }
      },
      "source": [
        "import matplotlib.pyplot as plt\n",
        "from matplotlib import style\n",
        "\n",
        "style.use('ggplot')\n",
        "\n",
        "df['Close'].plot()\n",
        "df['Forecast'].plot()\n",
        "plt.legend(loc=4)\n",
        "plt.xlabel('Date')\n",
        "plt.ylabel('Price')\n",
        "plt.show()"
      ],
      "execution_count": 0,
      "outputs": [
        {
          "output_type": "display_data",
          "data": {
            "image/png": "[encoded data removed]",
            "text/plain": [
              "<Figure size 432x288 with 1 Axes>"
            ]
          },
          "metadata": {
            "tags": []
          }
        }
      ]
    }
  ]
}